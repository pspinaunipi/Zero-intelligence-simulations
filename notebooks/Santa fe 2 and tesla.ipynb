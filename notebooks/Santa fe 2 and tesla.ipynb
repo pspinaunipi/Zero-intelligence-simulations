{
 "cells": [
  {
   "cell_type": "code",
   "execution_count": 2,
   "id": "138c9984",
   "metadata": {},
   "outputs": [],
   "source": [
    "import sys, os\n",
    "sys.path.append(\"../main\")\n",
    "from santa_fe_2 import *\n",
    "import matplotlib.pyplot as plt\n",
    "from scipy.optimize import curve_fit\n",
    "from numba import njit\n",
    "from scipy.optimize import curve_fit\n",
    "import pandas as pd\n",
    "\n",
    "@njit()\n",
    "def compute_diffusion_rate(vol_size,array, min_val = 1):\n",
    "    variance = np.zeros(vol_size - min_val + 1)\n",
    "    for i in range(min_val, vol_size+1):\n",
    "        new_arr = array[i:]-array[:-i]\n",
    "        variance[i - min_val] = new_arr.var()\n",
    "    return variance\n",
    "\n",
    "@njit()\n",
    "def compute_volatility(vol_size,array):\n",
    "    sigma = np.zeros(vol_size)\n",
    "    for i in range(1,vol_size+1):\n",
    "        #new_arr = ((array[i:]-array[:-i])**2).mean()\n",
    "        #sigma[i] = np.sqrt((new_arr/array.mean()**2))\n",
    "        sigma[i] = array[::i].std()\n",
    "    return sigma\n",
    "\n",
    "@njit()\n",
    "def compute_volatility_1(vol_size,array):\n",
    "    sigma = np.zeros(vol_size)\n",
    "    for i in range(1,vol_size+1):\n",
    "        new_arr = (array[i:]-array[:-i])**2\n",
    "        sigma[i] = new_arr.sum()/i\n",
    "    return sigma\n",
    "\n",
    "def avg(lst):\n",
    "    return np.array(lst).mean()\n",
    "\n",
    "def func(x, m, q):\n",
    "    return m * x + q\n",
    "\n",
    "def find_param(xx,yy):\n",
    "    popt, pcov = curve_fit(func, xx, yy)\n",
    "    m = popt[0]\n",
    "    q = popt[1]\n",
    "    err_m = np.sqrt(pcov[0][0])\n",
    "    err_q = np.sqrt(pcov[1][1])\n",
    "\n",
    "    \n",
    "    return m, q, err_m, err_q\n",
    "\n",
    "def func(x,x0,gamma):\n",
    "    return x0*x+gamma\n",
    "\n",
    "def func2(x,x0,gamma):\n",
    "    return x0*x**gamma\n",
    "\n",
    "def find_param_vol(xx,yy,x0=10e-5,gamma=1):\n",
    "    popt, pcov = curve_fit(func2, xx, yy,p0=(x0,gamma))\n",
    "    xx0 = popt[0]\n",
    "    gamma0 = popt[1]\n",
    "    return xx0,gamma0\n",
    "\n",
    "@njit()\n",
    "def compute_price_impact(price,sign,max_lag,step=1):\n",
    "    impact = []\n",
    "    std_impact = []\n",
    "    for i in range(1,max_lag,step):\n",
    "        impact.append((sign[:-i]*(price[i:]-price[:-i])).mean())\n",
    "        std_impact.append((sign[:-i]*(price[i:]-price[:-i])).std() / np.sqrt(len(price[i:])))\n",
    "    \n",
    "    return impact, std_impact"
   ]
  },
  {
   "cell_type": "markdown",
   "id": "a734ffdd",
   "metadata": {},
   "source": [
    "# Spread "
   ]
  },
  {
   "cell_type": "code",
   "execution_count": 3,
   "id": "2b4c4586",
   "metadata": {},
   "outputs": [],
   "source": [
    "_, _, spread, lamb, nu, mu, _, _, volat, gts = \\\n",
    "    np.loadtxt(\"../data/santa_fe_parameter_estimation_2.txt\",delimiter=\",\", unpack = True)"
   ]
  },
  {
   "cell_type": "code",
   "execution_count": 4,
   "id": "5d20e976",
   "metadata": {},
   "outputs": [],
   "source": [
    "mean_sp = np.zeros(len(spread))\n",
    "vol = np.zeros(len(spread))\n",
    "gap_to_spr = np.zeros(len(spread))\n",
    "\n",
    "i = 0\n",
    "for limit, market, cancel in zip(lamb, nu, mu):\n",
    "    lob, _, _, _  = simulate_lob(limit, market, cancel, 600, 500_000)\n",
    "    lob = lob[100_000:]\n",
    "    md, sp = find_mid_spread_lob(lob)\n",
    "    mean_sp[i] = sp.mean()\n",
    "    vol[i] = md.std()\n",
    "    gap_to_spr[i] = find_gap(lob)/sp.mean()\n",
    "    i += 1 "
   ]
  },
  {
   "cell_type": "code",
   "execution_count": 5,
   "id": "a4fe951f",
   "metadata": {},
   "outputs": [
    {
     "data": {
      "text/plain": [
       "[<matplotlib.lines.Line2D at 0x26631182490>]"
      ]
     },
     "execution_count": 5,
     "metadata": {},
     "output_type": "execute_result"
    },
    {
     "data": {
      "image/png": "[encoded data removed]",
      "text/plain": [
       "<Figure size 432x288 with 1 Axes>"
      ]
     },
     "metadata": {},
     "output_type": "display_data"
    }
   ],
   "source": [
    "plt.style.use('dark_background')\n",
    "xx = np.linspace(5,20,100)\n",
    "plt.plot(mean_sp,spread,\"o\")\n",
    "plt.xlabel(r\"$<s>_{sim}$\")\n",
    "plt.ylabel(r\"$<s>_{real}$\")\n",
    "plt.plot(xx,xx)\n"
   ]
  },
  {
   "cell_type": "code",
   "execution_count": 6,
   "id": "57fa5c3c",
   "metadata": {},
   "outputs": [],
   "source": [
    "#create a list of all the files in the folder\n",
    "DIR =\"C:\\\\Users\\\\spina\\\\Documents\\\\SOLDI\\\\data\\\\tesla_2015\\\\order\\\\TSLA_2015-01-30_34200000_57600000_orderbook_10.csv\"\n",
    "header_list = [\"ask price\",\"ask vol\",\"bid price\",\"bid vol\"]\n",
    "\n",
    "df_order = pd.concat([pd.read_csv(DIR, names=header_list,usecols=[0,1,2,3])])\n",
    "df_order.reset_index(drop=True, inplace=True)\n",
    "\n",
    "df_order[\"ask price\"] = df_order[\"ask price\"]/100\n",
    "df_order[\"bid price\"] = df_order[\"bid price\"]/100\n",
    "# add spread and mid price to the dataframe\n",
    "df_order[\"spread\"] = df_order[\"ask price\"] - df_order[\"bid price\"]\n",
    "df_order[\"mid price\"] = (df_order[\"ask price\"] + df_order[\"bid price\"]) / 2"
   ]
  },
  {
   "cell_type": "code",
   "execution_count": 7,
   "id": "bea562ba",
   "metadata": {},
   "outputs": [
    {
     "data": {
      "image/png": "[encoded data removed]",
      "text/plain": [
       "<Figure size 432x288 with 1 Axes>"
      ]
     },
     "metadata": {},
     "output_type": "display_data"
    }
   ],
   "source": [
    "    n,n_bins,_ = plt.hist(sp/mean_sp[-1], density=True,bins=20, alpha=0)\n",
    "    #plt.plot(n_bins + n_bins/34 , n)\n",
    "    (df_order[\"spread\"] / df_order[\"spread\"].mean()).hist(\n",
    "        bins = n_bins, density=True, color=\"aqua\", label=\"real\", alpha= 0.7)\n",
    "    pos = (n_bins[1:] + n_bins[:-1]) / 2\n",
    "    plt.plot(pos, n, \"o\",label = \"simulated\",c=\"gold\")\n",
    "    plt.xlabel(\"s/<s>\")\n",
    "    plt.xlim(0,3)\n",
    "    plt.legend()\n",
    "    plt.show()"
   ]
  },
  {
   "cell_type": "markdown",
   "id": "d526c91e",
   "metadata": {},
   "source": [
    "# gap to spread"
   ]
  },
  {
   "cell_type": "code",
   "execution_count": 8,
   "id": "50ddade4",
   "metadata": {
    "scrolled": true
   },
   "outputs": [
    {
     "data": {
      "text/plain": [
       "[<matplotlib.lines.Line2D at 0x26630f85160>]"
      ]
     },
     "execution_count": 8,
     "metadata": {},
     "output_type": "execute_result"
    },
    {
     "data": {
      "image/png": "[encoded data removed]",
      "text/plain": [
       "<Figure size 432x288 with 1 Axes>"
      ]
     },
     "metadata": {},
     "output_type": "display_data"
    }
   ],
   "source": [
    "plt.plot(gap_to_spr,gts,\"o\")\n",
    "plt.xlabel(r\"$<s>_{sim}$\")\n",
    "plt.ylabel(r\"$<s>_{real}$\")\n",
    "x = np.linspace(.20,.31,20)\n",
    "\n",
    "plt.plot(x,x)"
   ]
  },
  {
   "cell_type": "markdown",
   "id": "a1f937b0",
   "metadata": {},
   "source": [
    "# gap"
   ]
  },
  {
   "cell_type": "code",
   "execution_count": 9,
   "id": "329f09e1",
   "metadata": {},
   "outputs": [
    {
     "data": {
      "text/plain": [
       "[<matplotlib.lines.Line2D at 0x26630a6beb0>]"
      ]
     },
     "execution_count": 9,
     "metadata": {},
     "output_type": "execute_result"
    },
    {
     "data": {
      "image/png": "[encoded data removed]",
      "text/plain": [
       "<Figure size 432x288 with 1 Axes>"
      ]
     },
     "metadata": {},
     "output_type": "display_data"
    }
   ],
   "source": [
    "plt.plot(gap_to_spr * mean_sp ,gts*spread,\"o\")\n",
    "plt.xlabel(r\"$<s>_{sim}$\")\n",
    "plt.ylabel(r\"$<s>_{real}$\")\n",
    "x = np.linspace(1,5,20)\n",
    "\n",
    "plt.plot(x,x)"
   ]
  },
  {
   "cell_type": "markdown",
   "id": "f5c0e876",
   "metadata": {},
   "source": [
    "# volatility"
   ]
  },
  {
   "cell_type": "code",
   "execution_count": 10,
   "id": "c8048c22",
   "metadata": {},
   "outputs": [
    {
     "data": {
      "text/plain": [
       "[<matplotlib.lines.Line2D at 0x26630a4eac0>]"
      ]
     },
     "execution_count": 10,
     "metadata": {},
     "output_type": "execute_result"
    },
    {
     "data": {
      "image/png": "[encoded data removed]",
      "text/plain": [
       "<Figure size 432x288 with 1 Axes>"
      ]
     },
     "metadata": {},
     "output_type": "display_data"
    }
   ],
   "source": [
    "plt.plot(vol,volat,\"o\")\n",
    "x1 = np.linspace(10,240,10)\n",
    "plt.xlabel(r\"$<s>_{sim}$\")\n",
    "plt.ylabel(r\"$<s>_{real}$\")\n",
    "plt.plot(x1,x1)"
   ]
  },
  {
   "cell_type": "markdown",
   "id": "495c1982",
   "metadata": {},
   "source": [
    "# Market impact"
   ]
  },
  {
   "cell_type": "code",
   "execution_count": 11,
   "id": "214b1e9f",
   "metadata": {},
   "outputs": [
    {
     "name": "stdout",
     "output_type": "stream",
     "text": [
      "99\r"
     ]
    }
   ],
   "source": [
    "rate_lim = 0.030436\n",
    "rate_m   = 0.047497\n",
    "rate_del = 0.121010\n",
    "\n",
    "impact = np.zeros((100,50))\n",
    "for i in range(100):\n",
    "    print(i, end=\"\\r\")\n",
    "    lob, o_type, sign, price = simulate_lob(rate_lim, rate_m, rate_del, 1000,1000_000)\n",
    "    md, sp = find_mid_spread_lob(lob)\n",
    "\n",
    "    stats = dict()\n",
    "    stats[\"order type\"] = np.array(o_type)\n",
    "    stats[\"price\"] = np.array(price)\n",
    "    stats[\"direction\"] = np.array(sign)\n",
    "    stats[\"spread\"] = sp[:-1]\n",
    "    stats[\"mid price\"] = md[:-1]\n",
    "    df = pd.DataFrame(stats)\n",
    "    df.drop(labels = 0, axis = 0, inplace = True)\n",
    "    market_df = df[df[\"order type\"] == 1]\n",
    "    market_orders = market_df.index.to_numpy() - 2\n",
    "    sign_orders = market_df[\"direction\"].to_numpy()\n",
    "    new_df = df.iloc[market_orders]\n",
    "    mid_p = new_df[\"mid price\"].to_numpy()\n",
    "    p_impact, std_p = compute_price_impact(mid_p,sign_orders,51)\n",
    "    impact[i,:] = p_impact"
   ]
  },
  {
   "cell_type": "code",
   "execution_count": 19,
   "id": "0d1b5ee2",
   "metadata": {},
   "outputs": [],
   "source": [
    "m_impact = np.zeros(50)\n",
    "err_impact = np.zeros(50)\n",
    "\n",
    "for i in range(50):\n",
    "    m_impact[i] = impact[:,i].mean()\n",
    "    err_impact[i] = impact[:,i].std()"
   ]
  },
  {
   "cell_type": "code",
   "execution_count": 24,
   "id": "dc401292",
   "metadata": {},
   "outputs": [
    {
     "data": {
      "text/plain": [
       "(0.0, 3.0)"
      ]
     },
     "execution_count": 24,
     "metadata": {},
     "output_type": "execute_result"
    },
    {
     "data": {
      "image/png": "[encoded data removed]",
      "text/plain": [
       "<Figure size 432x288 with 1 Axes>"
      ]
     },
     "metadata": {},
     "output_type": "display_data"
    }
   ],
   "source": [
    "x = np.arange(1,51)\n",
    "plt.errorbar(x,m_impact,marker=\"o\")\n",
    "plt.ylim(0,3)"
   ]
  },
  {
   "cell_type": "markdown",
   "id": "4d3e2624",
   "metadata": {},
   "source": []
  },
  {
   "cell_type": "code",
   "execution_count": 16,
   "id": "3c7cbb50",
   "metadata": {},
   "outputs": [
    {
     "data": {
      "text/plain": [
       "array([2.5187747 , 1.94936306, 1.92820348, 2.5       , 1.89265358,\n",
       "       1.31425891, 1.20976658, 1.79295426, 1.44026683, 1.67159167,\n",
       "       2.04565353, 1.93376623, 1.89829438, 1.97565789, 1.67411924,\n",
       "       1.77420362, 2.3298009 , 1.95602294, 1.40555201, 2.20408163,\n",
       "       2.26649746, 1.45930233, 1.81664541, 1.80136561, 1.66037736,\n",
       "       1.95844595, 2.13341969, 1.67426108, 1.93352601, 1.80673077,\n",
       "       2.13541004, 2.26204239, 2.217     , 1.57803468, 1.75      ,\n",
       "       1.92796885, 2.2989418 , 2.14560261, 1.8152662 , 1.71358589,\n",
       "       1.82868904, 2.16006289, 1.70087065, 1.70109748, 2.00219573,\n",
       "       1.13607189, 1.64977258, 1.86722798, 1.97155785, 1.87341349,\n",
       "       2.23371284, 1.24301494, 1.67898833, 1.86996099, 1.7616168 ,\n",
       "       2.31465247, 2.33601984, 1.92894057, 1.69352792, 2.65750323,\n",
       "       1.63221306, 2.02063599, 1.27718078, 1.34095494, 1.8601071 ,\n",
       "       1.7482737 , 2.40153945, 1.67791971, 1.99967256, 2.00290135,\n",
       "       1.88690096, 1.6045108 , 1.93497475, 2.49425676, 2.251287  ,\n",
       "       2.27842069, 1.62723214, 1.80649189, 2.01184211, 1.94802296,\n",
       "       1.97920434, 1.95494924, 1.74010217, 0.79002541, 2.18742217,\n",
       "       2.00611829, 2.28024453, 2.59304572, 2.09191857, 1.80865385,\n",
       "       1.8734375 , 2.54394904, 1.82827631, 1.32651072, 1.70445609,\n",
       "       1.93116185, 1.93866048, 2.26520376, 1.97949735, 1.98813983])"
      ]
     },
     "execution_count": 16,
     "metadata": {},
     "output_type": "execute_result"
    }
   ],
   "source": [
    "impact[:,2]"
   ]
  },
  {
   "cell_type": "code",
   "execution_count": null,
   "id": "0cfabb0d",
   "metadata": {},
   "outputs": [],
   "source": []
  }
 ],
 "metadata": {
  "kernelspec": {
   "display_name": "Python 3",
   "language": "python",
   "name": "python3"
  },
  "language_info": {
   "codemirror_mode": {
    "name": "ipython",
    "version": 3
   },
   "file_extension": ".py",
   "mimetype": "text/x-python",
   "name": "python",
   "nbconvert_exporter": "python",
   "pygments_lexer": "ipython3",
   "version": "3.8.8"
  }
 },
 "nbformat": 4,
 "nbformat_minor": 5
}
