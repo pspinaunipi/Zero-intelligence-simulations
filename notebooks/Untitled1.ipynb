{
 "cells": [
  {
   "cell_type": "code",
   "execution_count": 1,
   "id": "b86c94bf",
   "metadata": {},
   "outputs": [],
   "source": [
    "import sys, os\n",
    "sys.path.append(\"../main\")\n",
    "from santa_fe_3 import *\n",
    "import matplotlib.pyplot as plt\n",
    "from scipy.optimize import curve_fit\n",
    "from numba import njit\n",
    "from scipy.optimize import curve_fit\n",
    "import pandas as pd\n",
    "import statsmodels.api as sm\n",
    "import scipy.stats\n",
    "    \n",
    "plt.style.use('dark_background')"
   ]
  },
  {
   "cell_type": "code",
   "execution_count": 32,
   "id": "53795aaa",
   "metadata": {},
   "outputs": [],
   "source": [
    "rate_lim = 0.018 \n",
    "rate_m   = 0.055 \n",
    "rate_del = 0.107\n",
    "\n",
    "vol = np.zeros(20)\n",
    "for i in range(20):\n",
    "    iters = 800\n",
    "\n",
    "    lob, order, typ, pric, shift  = simulate_lob(rate_lim, rate_m, rate_del,iters,500_000)\n",
    "    md, sp = find_mid_spread_lob(lob)\n",
    "    shift = np.array(shift)\n",
    "    change = shift.cumsum()\n",
    "    tot = change + md[1:] + (1000 - iters//2)\n",
    "    vol[i] = np.sqrt(((np.log(tot[1:]) - np.log(tot[:-1]))**2).mean())"
   ]
  },
  {
   "cell_type": "code",
   "execution_count": 34,
   "id": "541d5094",
   "metadata": {},
   "outputs": [],
   "source": [
    "vol1 = np.zeros(20)\n",
    "for i in range(20):\n",
    "    iters = 1600\n",
    "\n",
    "    lob, order, typ, pric, shift  = simulate_lob(rate_lim, rate_m, rate_del,iters,500_000)\n",
    "    md, sp = find_mid_spread_lob(lob)\n",
    "    shift = np.array(shift)\n",
    "    change = shift.cumsum()\n",
    "    tot = change + md[1:] + (1000 - iters//2)\n",
    "    vol1[i] = np.sqrt(((np.log(tot[1:]) - np.log(tot[:-1]))**2).mean())"
   ]
  },
  {
   "cell_type": "code",
   "execution_count": 39,
   "id": "d2a26610",
   "metadata": {},
   "outputs": [
    {
     "data": {
      "text/plain": [
       "5.301057759690248e-05"
      ]
     },
     "execution_count": 39,
     "metadata": {},
     "output_type": "execute_result"
    }
   ],
   "source": [
    "vol.std() / 4.3"
   ]
  },
  {
   "cell_type": "code",
   "execution_count": 38,
   "id": "92b4d4e3",
   "metadata": {},
   "outputs": [
    {
     "data": {
      "text/plain": [
       "1.7881545948088682e-05"
      ]
     },
     "execution_count": 38,
     "metadata": {},
     "output_type": "execute_result"
    }
   ],
   "source": [
    "vol1.std() / 4.3"
   ]
  },
  {
   "cell_type": "code",
   "execution_count": null,
   "id": "f919d416",
   "metadata": {},
   "outputs": [],
   "source": []
  }
 ],
 "metadata": {
  "kernelspec": {
   "display_name": "Python 3",
   "language": "python",
   "name": "python3"
  },
  "language_info": {
   "codemirror_mode": {
    "name": "ipython",
    "version": 3
   },
   "file_extension": ".py",
   "mimetype": "text/x-python",
   "name": "python",
   "nbconvert_exporter": "python",
   "pygments_lexer": "ipython3",
   "version": "3.8.8"
  }
 },
 "nbformat": 4,
 "nbformat_minor": 5
}
