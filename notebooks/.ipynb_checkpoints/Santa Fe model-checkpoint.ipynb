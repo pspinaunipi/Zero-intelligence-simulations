{
 "cells": [
  {
   "cell_type": "code",
   "execution_count": 23,
   "id": "5d2276bf",
   "metadata": {},
   "outputs": [],
   "source": [
    "from santa_fe_1 import *\n",
    "import matplotlib.pyplot as plt\n",
    "from scipy.optimize import curve_fit\n",
    "from numba import njit\n",
    "from scipy.optimize import curve_fit\n",
    "import pandas as pd\n",
    "\n",
    "\n",
    "@njit()\n",
    "def compute_price_impact(price,sign,max_lag,step=1):\n",
    "    impact = []\n",
    "    for i in range(1,max_lag,step):\n",
    "        impact.append((-sign[:-i]*(price[i:]-price[:-i])).mean())\n",
    "    \n",
    "    return impact\n",
    "\n",
    "@njit()\n",
    "def compute_diffusion_rate(vol_size,array, min_val = 1):\n",
    "    variance = np.zeros(vol_size - min_val + 1)\n",
    "    for i in range(min_val, vol_size+1):\n",
    "        new_arr = array[i:]-array[:-i]\n",
    "        variance[i - min_val] = new_arr.var()\n",
    "    return variance\n",
    "\n",
    "@njit()\n",
    "def compute_volatility(vol_size,array):\n",
    "    sigma = np.zeros(vol_size)\n",
    "    for i in range(1,vol_size+1):\n",
    "        #new_arr = ((array[i:]-array[:-i])**2).mean()\n",
    "        #sigma[i] = np.sqrt((new_arr/array.mean()**2))\n",
    "        sigma[i] = array[::i].std()\n",
    "    return sigma\n",
    "\n",
    "@njit()\n",
    "def compute_volatility_1(vol_size,array):\n",
    "    sigma = np.zeros(vol_size)\n",
    "    for i in range(1,vol_size+1):\n",
    "        new_arr = (array[i:]-array[:-i])**2\n",
    "        sigma[i] = new_arr.sum()/i\n",
    "    return sigma\n",
    "\n",
    "def avg(lst):\n",
    "    return np.array(lst).mean()\n",
    "\n",
    "def func(x, m, q):\n",
    "    return m * x + q\n",
    "\n",
    "def find_param(xx,yy):\n",
    "    popt, pcov = curve_fit(func, xx, yy)\n",
    "    m = popt[0]\n",
    "    q = popt[1]\n",
    "    err_m = np.sqrt(pcov[0][0])\n",
    "    err_q = np.sqrt(pcov[1][1])\n",
    "\n",
    "    \n",
    "    return m, q, err_m, err_q\n",
    "\n",
    "def func(x,x0,gamma):\n",
    "    return x0*x+gamma\n",
    "\n",
    "def func2(x,x0,gamma):\n",
    "    return x0*x**gamma\n",
    "\n",
    "def find_param_vol(xx,yy,x0=10e-5,gamma=1):\n",
    "    popt, pcov = curve_fit(func2, xx, yy,p0=(x0,gamma))\n",
    "    xx0 = popt[0]\n",
    "    gamma0 = popt[1]\n",
    "    return xx0,gamma0\n",
    "\n",
    "@njit()\n",
    "def compute_price_impact(price,sign,max_lag,step=1):\n",
    "    impact = []\n",
    "    for i in range(1,max_lag,step):\n",
    "        impact.append((sign[:-i]*(price[i:]-price[:-i])).mean())\n",
    "    \n",
    "    return impact\n",
    "    "
   ]
  },
  {
   "cell_type": "code",
   "execution_count": null,
   "id": "4d973ce2",
   "metadata": {
    "scrolled": true
   },
   "outputs": [],
   "source": [
    "rate_lim = 0.018\n",
    "rate_m   = 0.055\n",
    "rate_del = 0.107\n",
    "\n",
    "\n",
    "\n",
    "lob, order, typ, pric  = simulate_lob(rate_lim, rate_m, rate_del,1000,50_000)\n",
    "\n",
    "md, sp = find_mid_spread_lob(lob)\n",
    "\n",
    "fig,ax = plt.subplots(2,2,figsize = (12,9))\n",
    "\n",
    "ax[0,0].plot(md)\n",
    "ax[0,0].set_ylabel(r\"$m_p$\")\n",
    "ax[0,0].set_title(\"Mid price\")\n",
    "ax[1,0].hist(md)\n",
    "ax[0,1].plot(sp)\n",
    "ax[0,1].set_ylabel(r\"$s_p$\")\n",
    "ax[0,1].set_title(\"Spread\")\n",
    "ax[1,1].hist(sp,bins=np.arange(0,100,5))\n",
    "\n",
    "plt.show()\n",
    "print(sp.mean())"
   ]
  },
  {
   "cell_type": "code",
   "execution_count": null,
   "id": "58b6989d",
   "metadata": {},
   "outputs": [],
   "source": [
    "mean_sp = np.zeros(15)\n",
    "std_sp  = np.zeros(15)\n",
    "rates = np.linspace(1, 5 ,15)\n",
    "\n",
    "monte_sp = np.zeros(3)"
   ]
  },
  {
   "cell_type": "code",
   "execution_count": null,
   "id": "d66431e9",
   "metadata": {},
   "outputs": [],
   "source": [
    "for k in range(15):\n",
    "    print(k, end= \"\\r\")\n",
    "    \n",
    "    rate_lim = 5/rates[k]\n",
    "    rate_m   = 5\n",
    "    rate_del = 0.00001\n",
    "    \n",
    "    for i in range(3):\n",
    "        lob, order, typ, pric = simulate_lob(rate_lim, rate_m, rate_del, 100 ,30_000)\n",
    "        md, sp = find_mid_spread_lob(lob)\n",
    "        \n",
    "        monte_sp[i] = sp.mean()\n",
    "        \n",
    "    mean_sp[k] = monte_sp.mean()\n",
    "    "
   ]
  },
  {
   "cell_type": "code",
   "execution_count": null,
   "id": "9dc6b254",
   "metadata": {},
   "outputs": [],
   "source": [
    "plt.errorbar(x = rates, y = mean_sp, ls=\"\", marker=\"o\",c=\"red\",zorder=2)\n",
    "m,q,dm,dq = find_param(rates, mean_sp)\n",
    "\n",
    "plt.plot(rates,func(rates,m,q), zorder= 3,c=\"black\")\n",
    "print(f\" f = {m:.2f} +- {dm:.2f}\")"
   ]
  },
  {
   "cell_type": "code",
   "execution_count": 19,
   "id": "18b30f19",
   "metadata": {},
   "outputs": [],
   "source": [
    "for k in range(5,10,5):\n",
    "    \n",
    "    rate_lim = 1.5\n",
    "    rate_m   = 1\n",
    "    rate_del = 2\n",
    "    \n",
    "    lob, _, _,_ = simulate_lob(rate_lim, rate_m, rate_del, 500, 2_000_000)\n",
    "    md, sp = find_mid_spread_lob(lob)\n",
    "  \n",
    "    m_price = np.log(md)\n",
    "    \n",
    "    '''\n",
    "    plt.loglog()\n",
    "    x = np.arange(0,20_000)\n",
    "    plt.plot(x,volatility)\n",
    "\n",
    "    a0,k0 = find_param_vol(x[1:200],volatility[1:200])\n",
    "    a1,k1 = find_param_vol(x[200:],volatility[200:])\n",
    "    #plt.plot(x[1:200],func(x[1:200],a0,k0),label=f\"k0 = {k0:.2f}\")\n",
    "    #plt.plot(x[200:],func(x[200:],a1,k1),c=\"red\",label=f\"k1 = {k1:.2f}\")\n",
    "\n",
    "    plt.legend()\n",
    "    \n",
    "    plt.show()\n",
    "    '''"
   ]
  },
  {
   "cell_type": "code",
   "execution_count": 24,
   "id": "e152698b",
   "metadata": {},
   "outputs": [
    {
     "data": {
      "image/png": "[encoded data removed]",
      "text/plain": [
       "<Figure size 432x288 with 1 Axes>"
      ]
     },
     "metadata": {
      "needs_background": "light"
     },
     "output_type": "display_data"
    },
    {
     "name": "stdout",
     "output_type": "stream",
     "text": [
      "0.4444444444444444\n"
     ]
    }
   ],
   "source": [
    "volatility = compute_diffusion_rate(500,m_price)\n",
    "x = np.arange(0,500)\n",
    "plt.loglog()\n",
    "plt.plot(x,volatility)\n",
    "\n",
    "a0,k0 = find_param_vol(x,volatility)\n",
    "\n",
    "plt.plot(x,func2(x,a0,k0),label=f\"k0 = {k0:.2f}\")\n",
    "plt.legend()\n",
    "\n",
    "plt.show()\n",
    "\n",
    "eps = 2 * rate_del / rate_m\n",
    "theory = rate_m**2 * rate_del / rate_lim**2 * eps**(-0.5)\n",
    "print(theory)"
   ]
  },
  {
   "cell_type": "code",
   "execution_count": 27,
   "id": "5c296e20",
   "metadata": {},
   "outputs": [
    {
     "data": {
      "image/png": "[encoded data removed]",
      "text/plain": [
       "<Figure size 432x288 with 1 Axes>"
      ]
     },
     "metadata": {
      "needs_background": "light"
     },
     "output_type": "display_data"
    }
   ],
   "source": [
    "volatility = compute_diffusion_rate(500_000,m_price, min_val = 499_000)\n",
    "x = np.arange(49_000, 50_000)\n",
    "plt.loglog()\n",
    "plt.plot(x,volatility[:-1])\n",
    "\n",
    "a0,k0 = find_param_vol(x,volatility[:-1])\n",
    "\n",
    "plt.plot(x,func2(x,a0,k0),label=f\"k0 = {k0:.2f}\")\n",
    "plt.legend()\n",
    "\n",
    "plt.show()"
   ]
  },
  {
   "cell_type": "code",
   "execution_count": 29,
   "id": "cbc3162c",
   "metadata": {},
   "outputs": [
    {
     "name": "stdout",
     "output_type": "stream",
     "text": [
      "1.7777777777777777\n"
     ]
    }
   ],
   "source": [
    "eps = 2 * rate_del / rate_m\n",
    "theory = rate_m**2 * rate_del / rate_lim**2 * eps**(+0.5)\n",
    "print(theory)"
   ]
  },
  {
   "cell_type": "code",
   "execution_count": null,
   "id": "83e89f0e",
   "metadata": {},
   "outputs": [],
   "source": [
    "    plt.plot(x,volatility)\n",
    "    '''\n",
    "    a0,k0 = find_param_vol(x[1:50],volatility[1:50])\n",
    "    a1,k1 = find_param_vol(x[1000:],volatility[1000:])\n",
    "    plt.plot(x[1:100],func(x[1:100],a0,k0),label=f\"k0 = {k0:.2f}\")\n",
    "    plt.plot(x[1000:],func(x[1000:],a1,k1),c=\"red\",label=f\"k1 = {k1:.2f}\")\n",
    "    plt.legend()\n",
    "    '''"
   ]
  },
  {
   "cell_type": "code",
   "execution_count": null,
   "id": "0c838f8c",
   "metadata": {},
   "outputs": [],
   "source": [
    "(m_price[1:]- m_price[:-1]).var()"
   ]
  },
  {
   "cell_type": "markdown",
   "id": "adccb49d",
   "metadata": {},
   "source": [
    "## market impact"
   ]
  },
  {
   "cell_type": "code",
   "execution_count": null,
   "id": "34e615d1",
   "metadata": {},
   "outputs": [],
   "source": [
    "tot_val = 100\n",
    "p_impact = np.zeros((5,tot_val-1))\n",
    "for i in range(5):\n",
    "    rate_lim = 1\n",
    "    rate_m   = 1\n",
    "    rate_del = 1\n",
    "\n",
    "    lob, o_type, sign, price = simulate_lob(rate_lim, rate_m, rate_del, 300,100_000)\n",
    "    md, sp = find_mid_spread_lob(lob)\n",
    "    stats = dict()\n",
    "    stats[\"order type\"] = np.array(o_type)\n",
    "    stats[\"price\"] = np.array(price)\n",
    "    stats[\"direction\"] = np.array(sign)\n",
    "    stats[\"spread\"] = sp[:-1]\n",
    "    stats[\"mid price\"] = md[:-1]\n",
    "    print(len( stats[\"order type\"]),len( stats[\"price\"]), len(stats[\"mid price\"]))\n",
    "    df = pd.DataFrame(stats)\n",
    "    df.drop(labels = 0, axis = 0, inplace = True)\n",
    "    market_df = df[df[\"order type\"] == \"market\"]\n",
    "    market_orders = market_df.index.to_numpy() - 2\n",
    "    sign_orders =market_df[\"direction\"].to_numpy()\n",
    "\n",
    "    new_df = df.iloc[market_orders]\n",
    "    new_df.tail()\n",
    "\n",
    "\n",
    "    mid_p = new_df[\"mid price\"].to_numpy()\n",
    "\n",
    "    p_impact[i][:] = compute_price_impact(mid_p,sign_orders,tot_val)\n"
   ]
  },
  {
   "cell_type": "code",
   "execution_count": null,
   "id": "19eea2d1",
   "metadata": {},
   "outputs": [],
   "source": [
    "p_mean = np.zeros(99)\n",
    "\n",
    "for i in range(99):\n",
    "    p_mean[i] = p_impact[:,i].mean()\n",
    "    \n",
    "plt.plot(p_mean)\n"
   ]
  },
  {
   "cell_type": "code",
   "execution_count": null,
   "id": "f5e982da",
   "metadata": {},
   "outputs": [],
   "source": [
    "hh = initialize_cancel_times(8, 1)\n",
    "for i in hh:\n",
    "    print(i)"
   ]
  },
  {
   "cell_type": "code",
   "execution_count": null,
   "id": "a36eabfd",
   "metadata": {},
   "outputs": [],
   "source": [
    "lob, order, typ, pric  = simulate_lob(1, 1, 1, 10,100)"
   ]
  },
  {
   "cell_type": "code",
   "execution_count": null,
   "id": "1a5e52d1",
   "metadata": {},
   "outputs": [],
   "source": [
    "find_max_min(np.array([0,0,0,0,0,0]))"
   ]
  },
  {
   "cell_type": "code",
   "execution_count": 31,
   "id": "db5531cc",
   "metadata": {},
   "outputs": [
    {
     "data": {
      "text/plain": [
       "0.7850105017586023"
      ]
     },
     "execution_count": 31,
     "metadata": {},
     "output_type": "execute_result"
    }
   ],
   "source": [
    "np.random.random()"
   ]
  },
  {
   "cell_type": "code",
   "execution_count": 42,
   "id": "2116bb2f",
   "metadata": {},
   "outputs": [
    {
     "name": "stdout",
     "output_type": "stream",
     "text": [
      "2\n",
      "3\n",
      "3\n",
      "3\n",
      "3\n",
      "2\n",
      "2\n",
      "0\n",
      "0\n",
      "3\n"
     ]
    }
   ],
   "source": [
    "for i in range(10):\n",
    "    print(np.random.choice(5, p=[0.1, 0, 0.3, 0.6, 0]))"
   ]
  },
  {
   "cell_type": "code",
   "execution_count": null,
   "id": "12cfc31c",
   "metadata": {},
   "outputs": [],
   "source": []
  },
  {
   "cell_type": "code",
   "execution_count": null,
   "id": "b4ca0eb6",
   "metadata": {},
   "outputs": [],
   "source": []
  }
 ],
 "metadata": {
  "kernelspec": {
   "display_name": "Python 3",
   "language": "python",
   "name": "python3"
  },
  "language_info": {
   "codemirror_mode": {
    "name": "ipython",
    "version": 3
   },
   "file_extension": ".py",
   "mimetype": "text/x-python",
   "name": "python",
   "nbconvert_exporter": "python",
   "pygments_lexer": "ipython3",
   "version": "3.8.8"
  }
 },
 "nbformat": 4,
 "nbformat_minor": 5
}
