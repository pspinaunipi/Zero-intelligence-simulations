{
 "cells": [
  {
   "cell_type": "code",
   "execution_count": 1,
   "id": "2f2f8772",
   "metadata": {},
   "outputs": [],
   "source": [
    "from fast_limit_order import *\n",
    "import numpy as np\n",
    "import matplotlib.pyplot as plt\n",
    "from scipy.optimize import curve_fit\n",
    "\n",
    "\n",
    "@njit()\n",
    "def compute_price_impact(price,sign,max_lag,step=1):\n",
    "    impact = []\n",
    "    for i in range(1,max_lag,step):\n",
    "        impact.append((sign[:-i]*(price[i:]-price[:-i])).mean())\n",
    "    \n",
    "    return impact\n",
    "\n",
    "@njit()\n",
    "def compute_signature_plot(vol_size,array):\n",
    "    sigma = np.zeros(vol_size)\n",
    "    for i in range(1,vol_size+1):\n",
    "        new_arr = (array[i:]-array[:-i])**2\n",
    "        sigma[i] = np.sqrt(new_arr.sum()/i)\n",
    "        #sigma[i] = array[::i].std()\n",
    "    return sigma\n",
    "\n",
    "@njit()\n",
    "def compute_diffusion_rate(vol_size,array):\n",
    "    variance = np.zeros(vol_size)\n",
    "    for i in range(1,vol_size+1):\n",
    "        new_arr = array[i:]-array[:-i]\n",
    "        variance[i] = new_arr.var()\n",
    "    return variance\n",
    "\n",
    "def func(x, m, q):\n",
    "    return m * x + q\n",
    "\n",
    "def find_param_spread(xx, yy, m0 = 0.5, q0 = 0):\n",
    "    popt, pcov = curve_fit(func, xx, yy, p0 = (m0, q0))\n",
    "    mm0 = popt[0]\n",
    "    err_mm0 = np.sqrt(pcov[0][0])\n",
    "    return mm0, err_mm0\n",
    "\n",
    "def spread_ddd(xx):\n",
    "    return 0.28 + 1.86 * (xx)**(3/4) "
   ]
  },
  {
   "cell_type": "markdown",
   "id": "eeda57be",
   "metadata": {},
   "source": [
    "# results of a simulation"
   ]
  },
  {
   "cell_type": "code",
   "execution_count": 2,
   "id": "e8538e36",
   "metadata": {},
   "outputs": [
    {
     "name": "stdout",
     "output_type": "stream",
     "text": [
      "buy limit orders 25343\n",
      "sell limit orders 24672\n",
      "buy cancel orders 25214\n",
      "sell cancel orders 24562\n",
      "buy market orders 107\n",
      "sell market orders 102\n",
      "best price buy limit order 155\n",
      "best price sell limit order 149\n",
      "\n",
      "<s> =  4.93855\n",
      "<m> =  508.660565\n"
     ]
    }
   ],
   "source": [
    "md, sp, stats  = sim_zero_intelligent(0.5, 1, 0.5, 0, 1000, max_iterations = 100_000, tick_size = 1)\n",
    "\n",
    "for k, v in stats.items():\n",
    "    print(k, v)\n",
    "\n",
    "print(\"\\n<s> = \", np.array(sp).mean())\n",
    "print(\"<m> = \", np.array(md).mean())"
   ]
  },
  {
   "cell_type": "code",
   "execution_count": null,
   "id": "76f7f92a",
   "metadata": {
    "scrolled": true
   },
   "outputs": [],
   "source": [
    "fig, ax = plt.subplots(2, 2, figsize = (12,8))\n",
    "\n",
    "ax[0,0].plot(md)\n",
    "ax[0,0].set_title(\"mid price\")\n",
    "\n",
    "ax[0,1].plot(sp)\n",
    "ax[0,1].set_title(\"spread\")\n",
    "\n",
    "ax[1,0].hist(md,  bins=np.arange(495,520))\n",
    "\n",
    "ax[1,1].hist(sp,bins=np.arange(15))\n",
    "plt.show()"
   ]
  },
  {
   "cell_type": "markdown",
   "id": "6d766d4c",
   "metadata": {},
   "source": [
    "# mid spread"
   ]
  },
  {
   "cell_type": "code",
   "execution_count": null,
   "id": "a5cd485b",
   "metadata": {},
   "outputs": [],
   "source": [
    "iterations = 20\n",
    "rate = np.linspace(1,5,iterations)\n",
    "\n",
    "arr_sp = np.zeros(iterations)\n",
    "\n",
    "monte_sp = np.zeros(50)\n",
    "\n",
    "for i in range(iterations):\n",
    "    print(i, end= \"\\r\")\n",
    "    \n",
    "    for j in range(50):\n",
    "        _, sp, _  = sim_zero_intelligent(1/rate[i], 1, 0.5, 0, 1500, max_iterations = 100_000, tick_size = 1)\n",
    "        monte_sp[j] = np.array(sp).mean()\n",
    "        \n",
    "    arr_sp[i] = monte_sp.mean()"
   ]
  },
  {
   "cell_type": "code",
   "execution_count": null,
   "id": "435dd4da",
   "metadata": {
    "scrolled": true
   },
   "outputs": [],
   "source": [
    "plt.plot(1/rate,arr_sp,\"o\")\n",
    "plt.xlabel(r\"$\\mu/\\alpha$\")\n",
    "plt.ylabel(\"<s>\")\n",
    "f, df = find_param_spread(1/rate ,arr_sp, m0 = 0.5, q0 = 0)\n",
    "plt.plot(1/rate,func(1/rate,f,0))\n",
    "\n",
    "print(f\"f = {f:.3f} +- {df:.3f}\")\n",
    "print(round(spread_ddd(0.8/1),3))"
   ]
  },
  {
   "cell_type": "code",
   "execution_count": null,
   "id": "1c85ee6c",
   "metadata": {},
   "outputs": [],
   "source": [
    "iterations = 20\n",
    "rate = np.linspace(0.1,2,iterations)\n",
    "\n",
    "arr_sp_2 = np.zeros(iterations)\n",
    "\n",
    "monte_sp = np.zeros(50)\n",
    "\n",
    "for i in range(iterations):\n",
    "    print(i, end= \"\\r\")\n",
    "    \n",
    "    for j in range(50):\n",
    "        _, sp, _  = sim_zero_intelligent(rate[i], 1, 0.8, 0, 1500, max_iterations = 100_000, tick_size = 1)\n",
    "        monte_sp[j] = np.array(sp).mean()\n",
    "        \n",
    "    arr_sp_2[i] = monte_sp.mean()"
   ]
  },
  {
   "cell_type": "code",
   "execution_count": null,
   "id": "412ccb98",
   "metadata": {},
   "outputs": [],
   "source": [
    "plt.plot(1/rate,arr_sp_2,\"o\")\n",
    "plt.xlabel(r\"$\\mu/\\alpha$\")\n",
    "plt.ylabel(\"<s>\")\n",
    "f, df = find_param_spread(1/rate ,arr_sp_2, m0 = 0.5, q0 = 0)\n",
    "plt.plot(1/rate,func(1/rate,f,0))\n",
    "\n",
    "print(f\"f = {f:.3f} +- {df:.3f}\")\n",
    "print(round(spread_ddd(0.8/1),3))"
   ]
  },
  {
   "cell_type": "code",
   "execution_count": null,
   "id": "c1c61b93",
   "metadata": {},
   "outputs": [],
   "source": [
    "iterations = 10\n",
    "rate = np.linspace(0.1,0.7,iterations)\n",
    "\n",
    "arr_sp_3 = np.zeros(iterations)\n",
    "\n",
    "monte_sp = np.zeros(15)\n",
    "\n",
    "for i in range(iterations):\n",
    "    print(i, end= \"\\r\")\n",
    "    \n",
    "    for j in range(15):\n",
    "        _, sp, _  = sim_zero_intelligent(rate[i], 1, 0.005, 0, 500, max_iterations = 100_000, tick_size = 1)\n",
    "        monte_sp[j] = np.array(sp).mean()\n",
    "        \n",
    "    arr_sp_3[i] = monte_sp.mean()"
   ]
  },
  {
   "cell_type": "code",
   "execution_count": null,
   "id": "c5f762e6",
   "metadata": {},
   "outputs": [],
   "source": []
  },
  {
   "cell_type": "markdown",
   "id": "ed9c876a",
   "metadata": {},
   "source": [
    "# Depth profile"
   ]
  },
  {
   "cell_type": "code",
   "execution_count": null,
   "id": "3e8dec10",
   "metadata": {},
   "outputs": [],
   "source": [
    "m_rate = [1,0.1,1]\n",
    "c_rate = [1,0.1,0.01]\n",
    "\n",
    "for i,j in zip(m_rate,c_rate):\n",
    "    md,sp,st = sim_zero_intelligent(1, i, j, 0, 300, max_iterations = 100_000, tick_size = 1)\n",
    "    \n",
    "    volatility = compute_signature_plot(1000,np.log(md)[1000:])\n",
    "\n",
    "    x = np.arange(1,1000)\n",
    "\n",
    "    plt.plot(x,volatility[1:],label=f\"m={i}, c={j}\")\n",
    "\n",
    "\n",
    "\n",
    "plt.xlabel(r\"($\\tau$)\")\n",
    "plt.ylabel(r\"$\\sigma(\\tau)$\")\n",
    "\n",
    "plt.legend()\n",
    "plt.show()"
   ]
  },
  {
   "cell_type": "code",
   "execution_count": null,
   "id": "20f04358",
   "metadata": {},
   "outputs": [],
   "source": [
    "subtract_from_list(float([]),2)"
   ]
  },
  {
   "cell_type": "code",
   "execution_count": null,
   "id": "4456f324",
   "metadata": {},
   "outputs": [],
   "source": []
  }
 ],
 "metadata": {
  "kernelspec": {
   "display_name": "Python 3",
   "language": "python",
   "name": "python3"
  },
  "language_info": {
   "codemirror_mode": {
    "name": "ipython",
    "version": 3
   },
   "file_extension": ".py",
   "mimetype": "text/x-python",
   "name": "python",
   "nbconvert_exporter": "python",
   "pygments_lexer": "ipython3",
   "version": "3.8.8"
  }
 },
 "nbformat": 4,
 "nbformat_minor": 5
}
