{
 "cells": [
  {
   "cell_type": "code",
   "execution_count": 1,
   "id": "62c3b661",
   "metadata": {},
   "outputs": [],
   "source": [
    "import sys, os\n",
    "sys.path.append(\"../main\")\n",
    "from santa_fe_3 import *\n",
    "import matplotlib.pyplot as plt\n",
    "from scipy.optimize import curve_fit\n",
    "from numba import njit\n",
    "from scipy.optimize import curve_fit\n",
    "import pandas as pd\n",
    "import statsmodels.api as sm\n",
    "import scipy.stats\n",
    "    \n",
    "plt.style.use('dark_background')"
   ]
  },
  {
   "cell_type": "code",
   "execution_count": null,
   "id": "0051982d",
   "metadata": {},
   "outputs": [],
   "source": [
    "rate_lim = 0.018 \n",
    "rate_m   = 0.055 \n",
    "rate_del = 0.107\n",
    "\n",
    "vol = np.zeros(20)\n",
    "for i in range(20):\n",
    "    iters = 800\n",
    "\n",
    "    lob, order, typ, pric, shift  = simulate_lob(rate_lim, rate_m, rate_del,iters,500_000)\n",
    "    md, sp = find_mid_spread_lob(lob)\n",
    "    shift = np.array(shift)\n",
    "    change = shift.cumsum()\n",
    "    tot = change + md[1:] + (1000 - iters//2)\n",
    "    vol[i] = np.sqrt(((np.log(tot[1:]) - np.log(tot[:-1]))**2).mean())"
   ]
  },
  {
   "cell_type": "code",
   "execution_count": 31,
   "id": "968561be",
   "metadata": {},
   "outputs": [
    {
     "data": {
      "text/plain": [
       "0.0005689741904077299"
      ]
     },
     "execution_count": 31,
     "metadata": {},
     "output_type": "execute_result"
    }
   ],
   "source": [
    "vol1 = np.zeros(20)\n",
    "for i in range(20):\n",
    "    iters = 1600\n",
    "\n",
    "    lob, order, typ, pric, shift  = simulate_lob(rate_lim, rate_m, rate_del,iters,500_000)\n",
    "    md, sp = find_mid_spread_lob(lob)\n",
    "    shift = np.array(shift)\n",
    "    change = shift.cumsum()\n",
    "    tot = change + md[1:] + (1000 - iters//2)\n",
    "    vol1[i] = np.sqrt(((np.log(tot[1:]) - np.log(tot[:-1]))**2).mean())"
   ]
  },
  {
   "cell_type": "code",
   "execution_count": null,
   "id": "b49705f0",
   "metadata": {},
   "outputs": [],
   "source": []
  },
  {
   "cell_type": "code",
   "execution_count": null,
   "id": "1580b082",
   "metadata": {},
   "outputs": [],
   "source": []
  }
 ],
 "metadata": {
  "kernelspec": {
   "display_name": "Python 3",
   "language": "python",
   "name": "python3"
  },
  "language_info": {
   "codemirror_mode": {
    "name": "ipython",
    "version": 3
   },
   "file_extension": ".py",
   "mimetype": "text/x-python",
   "name": "python",
   "nbconvert_exporter": "python",
   "pygments_lexer": "ipython3",
   "version": "3.8.8"
  }
 },
 "nbformat": 4,
 "nbformat_minor": 5
}
