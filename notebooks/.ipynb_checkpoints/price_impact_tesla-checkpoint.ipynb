{
 "cells": [
  {
   "cell_type": "code",
   "execution_count": 2,
   "id": "7d87826c",
   "metadata": {},
   "outputs": [],
   "source": [
    "import pandas as pd\n",
    "import os\n",
    "import seaborn as sns\n",
    "import matplotlib.pyplot as plt\n",
    "import numpy as np\n",
    "from numba import njit\n",
    "from scipy.optimize import curve_fit\n",
    "import scipy.stats"
   ]
  },
  {
   "cell_type": "code",
   "execution_count": 3,
   "id": "ff4a33ba",
   "metadata": {},
   "outputs": [],
   "source": [
    "@njit()\n",
    "def compute_signature_plot(vol_size,array):\n",
    "    sigma = np.zeros(vol_size)\n",
    "    for i in range(1,vol_size+1):\n",
    "        new_arr = array[::i]\n",
    "        square_sum = (new_arr[1:] - new_arr[:-1])**2\n",
    "        sigma[i] = new_arr.mean() / i\n",
    "        \n",
    "    return np.sqrt(sigma)\n",
    "\n",
    "@njit()\n",
    "def compute_price_impact(price,sign,max_lag,step=1):\n",
    "    impact = []\n",
    "    std_impact = []\n",
    "    for i in range(1,max_lag,step):\n",
    "        impact.append((-sign[:-i]*(price[i:]-price[:-i])).mean())\n",
    "        std_impact.append((-sign[:-i]*(price[i:]-price[:-i])).std() / np.sqrt(len(price[i:])))\n",
    "    \n",
    "    return impact, std_impact\n",
    "    \n",
    "    plt.style.use('dark_background')"
   ]
  },
  {
   "cell_type": "code",
   "execution_count": null,
   "id": "00c78845",
   "metadata": {},
   "outputs": [],
   "source": [
    "#create a list of all the files in the folder\n",
    "DIR =\"C:\\\\Users\\\\spina\\\\Documents\\\\SOLDI\\\\data\\\\tesla_2015\\\\order\\\\\"\n",
    "tesla_files =os.listdir(DIR)\n",
    "header_list = [\"ask price\",\"ask vol\",\"bid price\",\"bid vol\"]\n",
    "\n",
    "#create a list of all the files in the folder\n",
    "DIR_1 =\"C:\\\\Users\\\\spina\\\\Documents\\\\SOLDI\\\\data\\\\tesla_2015\\\\message\\\\\"\n",
    "tesla_files_1 =os.listdir(DIR_1)\n",
    "\n",
    "header_list_1 = [\"time\",\"event type\",\"order ID\",\"size\",\"price\",\"direction\"]\n",
    "lst_message = []\n",
    "lst_order = []\n",
    "# crate a new dataframe that shows the state of the LOB each second\n",
    "for message, order in zip(tesla_files_1, tesla_files):\n",
    "    \n",
    "    #load message dataframe\n",
    "    df_m = pd.read_csv(DIR_1 + message, names = header_list_1)\n",
    "    # find status LOB every second\n",
    "    secs = []\n",
    "    start = 34201\n",
    "    for i,element in enumerate(df_m[\"time\"]):           \n",
    "        if start < element:\n",
    "            while start < element:\n",
    "                secs.append(i-1)\n",
    "                start += 1\n",
    "\n",
    "    # ignore the first hour and last 30 minutes of trading\n",
    "    secs = secs[3600:-1800]\n",
    "    df_m = df_m.iloc[secs]\n",
    "    \n",
    "    # load order dataframe\n",
    "    df_o = pd.read_csv(DIR + order, names=header_list,usecols=[0,1,2,3])\n",
    "    df_o = df_o.iloc[secs] \n",
    "    #scale price to dollar cent\n",
    "    df_o[\"ask price\"] = df_o[\"ask price\"]/100\n",
    "    df_o[\"bid price\"] = df_o[\"bid price\"]/100\n",
    "    # add spread and mid price\n",
    "    df_o[\"spread\"] = df_o[\"ask price\"] - df_o[\"bid price\"]\n",
    "    df_o[\"mid price\"] = (df_o[\"ask price\"] + df_o[\"bid price\"]) / 2\n",
    "    \n",
    "    lst_message.append(df_m)\n",
    "    lst_order.append(df_o)"
   ]
  }
 ],
 "metadata": {
  "kernelspec": {
   "display_name": "Python 3",
   "language": "python",
   "name": "python3"
  },
  "language_info": {
   "codemirror_mode": {
    "name": "ipython",
    "version": 3
   },
   "file_extension": ".py",
   "mimetype": "text/x-python",
   "name": "python",
   "nbconvert_exporter": "python",
   "pygments_lexer": "ipython3",
   "version": "3.8.8"
  }
 },
 "nbformat": 4,
 "nbformat_minor": 5
}
