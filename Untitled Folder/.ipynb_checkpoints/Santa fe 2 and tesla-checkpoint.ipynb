{
 "cells": [
  {
   "cell_type": "code",
   "execution_count": 1,
   "id": "02dc0f1c",
   "metadata": {},
   "outputs": [],
   "source": [
    "from santa_fe_2 import *\n",
    "import matplotlib.pyplot as plt\n",
    "from scipy.optimize import curve_fit\n",
    "from numba import njit\n",
    "from scipy.optimize import curve_fit\n",
    "import pandas as pd\n",
    "\n",
    "\n",
    "@njit()\n",
    "def compute_price_impact(price,sign,max_lag,step=1):\n",
    "    impact = []\n",
    "    for i in range(1,max_lag,step):\n",
    "        impact.append((-sign[:-i]*(price[i:]-price[:-i])).mean())\n",
    "    \n",
    "    return impact\n",
    "\n",
    "@njit()\n",
    "def compute_diffusion_rate(vol_size,array, min_val = 1):\n",
    "    variance = np.zeros(vol_size - min_val + 1)\n",
    "    for i in range(min_val, vol_size+1):\n",
    "        new_arr = array[i:]-array[:-i]\n",
    "        variance[i - min_val] = new_arr.var()\n",
    "    return variance\n",
    "\n",
    "@njit()\n",
    "def compute_volatility(vol_size,array):\n",
    "    sigma = np.zeros(vol_size)\n",
    "    for i in range(1,vol_size+1):\n",
    "        #new_arr = ((array[i:]-array[:-i])**2).mean()\n",
    "        #sigma[i] = np.sqrt((new_arr/array.mean()**2))\n",
    "        sigma[i] = array[::i].std()\n",
    "    return sigma\n",
    "\n",
    "@njit()\n",
    "def compute_volatility_1(vol_size,array):\n",
    "    sigma = np.zeros(vol_size)\n",
    "    for i in range(1,vol_size+1):\n",
    "        new_arr = (array[i:]-array[:-i])**2\n",
    "        sigma[i] = new_arr.sum()/i\n",
    "    return sigma\n",
    "\n",
    "def avg(lst):\n",
    "    return np.array(lst).mean()\n",
    "\n",
    "def func(x, m, q):\n",
    "    return m * x + q\n",
    "\n",
    "def find_param(xx,yy):\n",
    "    popt, pcov = curve_fit(func, xx, yy)\n",
    "    m = popt[0]\n",
    "    q = popt[1]\n",
    "    err_m = np.sqrt(pcov[0][0])\n",
    "    err_q = np.sqrt(pcov[1][1])\n",
    "\n",
    "    \n",
    "    return m, q, err_m, err_q\n",
    "\n",
    "def func(x,x0,gamma):\n",
    "    return x0*x+gamma\n",
    "\n",
    "def func2(x,x0,gamma):\n",
    "    return x0*x**gamma\n",
    "\n",
    "def find_param_vol(xx,yy,x0=10e-5,gamma=1):\n",
    "    popt, pcov = curve_fit(func2, xx, yy,p0=(x0,gamma))\n",
    "    xx0 = popt[0]\n",
    "    gamma0 = popt[1]\n",
    "    return xx0,gamma0\n",
    "\n",
    "@njit()\n",
    "def compute_price_impact(price,sign,max_lag,step=1):\n",
    "    impact = []\n",
    "    for i in range(1,max_lag,step):\n",
    "        impact.append((sign[:-i]*(price[i:]-price[:-i])).mean())\n",
    "    \n",
    "    return impact"
   ]
  },
  {
   "cell_type": "markdown",
   "id": "4ec3ff77",
   "metadata": {},
   "source": [
    "# Spread "
   ]
  },
  {
   "cell_type": "code",
   "execution_count": 2,
   "id": "b01af4c0",
   "metadata": {},
   "outputs": [],
   "source": [
    "_, _, spread, lamb, nu, mu, _, _, volat, gts = \\\n",
    "    np.loadtxt(\"santa_fe_parameter_estimation.txt\",delimiter=\",\", unpack = True)"
   ]
  },
  {
   "cell_type": "code",
   "execution_count": 3,
   "id": "1efd6751",
   "metadata": {},
   "outputs": [],
   "source": [
    "mean_sp = np.zeros(len(spread))\n",
    "vol = np.zeros(len(spread))\n",
    "gap_to_spr = np.zeros(len(spread))\n",
    "\n",
    "i = 0\n",
    "for limit, market, cancel in zip(lamb, nu, mu):\n",
    "    lob, _, _, _  = simulate_lob(limit, market, cancel, 1000, 500_000)\n",
    "    md, sp = find_mid_spread_lob(lob)\n",
    "    mean_sp[i] = sp.mean()\n",
    "    vol[i] = md.std()\n",
    "    gap_to_spr[i] = find_gap(lob)/sp.mean()\n",
    "    i += 1 "
   ]
  },
  {
   "cell_type": "code",
   "execution_count": 4,
   "id": "7ff1306d",
   "metadata": {},
   "outputs": [
    {
     "data": {
      "text/plain": [
       "[<matplotlib.lines.Line2D at 0x22ffc039a30>]"
      ]
     },
     "execution_count": 4,
     "metadata": {},
     "output_type": "execute_result"
    },
    {
     "data": {
      "image/png": "[encoded data removed]",
      "text/plain": [
       "<Figure size 432x288 with 1 Axes>"
      ]
     },
     "metadata": {},
     "output_type": "display_data"
    }
   ],
   "source": [
    "plt.style.use('dark_background')\n",
    "xx = np.linspace(5,20,100)\n",
    "plt.plot(mean_sp,spread,\"o\")\n",
    "plt.xlabel(r\"$<s>_{sim}$\")\n",
    "plt.ylabel(r\"$<s>_{real}$\")\n",
    "plt.plot(xx,xx)\n"
   ]
  },
  {
   "cell_type": "code",
   "execution_count": 5,
   "id": "61389f81",
   "metadata": {},
   "outputs": [],
   "source": [
    "#create a list of all the files in the folder\n",
    "DIR =\"C:\\\\Users\\\\spina\\\\Documents\\\\SOLDI\\\\data\\\\tesla_2015\\\\order\\\\TSLA_2015-01-30_34200000_57600000_orderbook_10.csv\"\n",
    "header_list = [\"ask price\",\"ask vol\",\"bid price\",\"bid vol\"]\n",
    "\n",
    "df_order = pd.concat([pd.read_csv(DIR, names=header_list,usecols=[0,1,2,3])])\n",
    "df_order.reset_index(drop=True, inplace=True)\n",
    "\n",
    "df_order[\"ask price\"] = df_order[\"ask price\"]/100\n",
    "df_order[\"bid price\"] = df_order[\"bid price\"]/100\n",
    "# add spread and mid price to the dataframe\n",
    "df_order[\"spread\"] = df_order[\"ask price\"] - df_order[\"bid price\"]\n",
    "df_order[\"mid price\"] = (df_order[\"ask price\"] + df_order[\"bid price\"]) / 2"
   ]
  },
  {
   "cell_type": "code",
   "execution_count": 10,
   "id": "c5a8623f",
   "metadata": {},
   "outputs": [
    {
     "data": {
      "image/png": "[encoded data removed]",
      "text/plain": [
       "<Figure size 432x288 with 1 Axes>"
      ]
     },
     "metadata": {},
     "output_type": "display_data"
    }
   ],
   "source": [
    "\n",
    "n,n_bins,_ = plt.hist(sp/mean_sp[-1], density=True,bins=18, label = \"simulated\")\n",
    "plt.xlabel(\"s/<s>\")\n",
    "\n",
    "(df_order[\"spread\"] / df_order[\"spread\"].mean()).hist(bins = n_bins, density=True, alpha=0.5, label=\"real\")\n",
    "plt.legend()\n",
    "plt.show()"
   ]
  },
  {
   "cell_type": "markdown",
   "id": "21eca4ac",
   "metadata": {},
   "source": [
    "# gap to spread"
   ]
  },
  {
   "cell_type": "code",
   "execution_count": 7,
   "id": "1161aaee",
   "metadata": {},
   "outputs": [
    {
     "data": {
      "text/plain": [
       "[<matplotlib.lines.Line2D at 0x22ffa8d93d0>]"
      ]
     },
     "execution_count": 7,
     "metadata": {},
     "output_type": "execute_result"
    },
    {
     "data": {
      "image/png": "[encoded data removed]",
      "text/plain": [
       "<Figure size 432x288 with 1 Axes>"
      ]
     },
     "metadata": {},
     "output_type": "display_data"
    }
   ],
   "source": [
    "plt.plot(gap_to_spr,gts,\"o\")\n",
    "plt.xlabel(r\"$<s>_{sim}$\")\n",
    "plt.ylabel(r\"$<s>_{real}$\")\n",
    "x = np.linspace(.20,.31,20)\n",
    "\n",
    "plt.plot(x,x)"
   ]
  },
  {
   "cell_type": "markdown",
   "id": "bcc1c725",
   "metadata": {},
   "source": [
    "# volatility"
   ]
  },
  {
   "cell_type": "code",
   "execution_count": 8,
   "id": "bca00cc5",
   "metadata": {},
   "outputs": [
    {
     "data": {
      "text/plain": [
       "[]"
      ]
     },
     "execution_count": 8,
     "metadata": {},
     "output_type": "execute_result"
    },
    {
     "data": {
      "image/png": "[encoded data removed]",
      "text/plain": [
       "<Figure size 432x288 with 1 Axes>"
      ]
     },
     "metadata": {},
     "output_type": "display_data"
    }
   ],
   "source": [
    "plt.plot(vol,volat,\"o\")\n",
    "x1 = np.linspace(10,200,10)\n",
    "plt.xlabel(r\"$<s>_{sim}$\")\n",
    "plt.ylabel(r\"$<s>_{real}$\")\n",
    "plt.plot(x1,x1)\n",
    "plt.loglog()"
   ]
  },
  {
   "cell_type": "code",
   "execution_count": null,
   "id": "eb5061aa",
   "metadata": {},
   "outputs": [],
   "source": []
  }
 ],
 "metadata": {
  "kernelspec": {
   "display_name": "Python 3",
   "language": "python",
   "name": "python3"
  },
  "language_info": {
   "codemirror_mode": {
    "name": "ipython",
    "version": 3
   },
   "file_extension": ".py",
   "mimetype": "text/x-python",
   "name": "python",
   "nbconvert_exporter": "python",
   "pygments_lexer": "ipython3",
   "version": "3.8.8"
  }
 },
 "nbformat": 4,
 "nbformat_minor": 5
}
